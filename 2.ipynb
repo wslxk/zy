{
 "cells": [
  {
   "cell_type": "markdown",
   "metadata": {},
   "source": [
    "# 练习目的\n",
    "\n",
    "* 熟悉机器学习项目的基本流程\n",
    "* 掌握Scikit-learn中常用函数\n",
    "* 思考如何进一步优化模型效果"
   ]
  },
  {
   "cell_type": "markdown",
   "metadata": {},
   "source": [
    "# 练习内容\n",
    "根据《第二章 机器学习实战流程》中介绍的内容，通过完成以下工作来建立该项目的基本建模流程：\n",
    "1. 理解建模目标\n",
    "2. 理解并准备数据\n",
    "3. 训练模型\n",
    "4. 评估模型\n",
    "5. 总结进一步优化方向"
   ]
  },
  {
   "cell_type": "markdown",
   "metadata": {},
   "source": [
    "## 理解建模目标\n",
    "\n",
    "理解建模目标在实际机器学习应用项目中是关键的起步工作，其作用是充分理解业务需求并将业务问题定义为建模问题，并初步确定将使用的数据范围、算法以及评价模型的指标。在实际业务应用中，数据科学家往往要综合考虑业务需求，以便在模型可解释性和准确性两者之前做到权衡。\n",
    "\n",
    "本次练习来源于Kaggle举办的一次数据竞赛，项目提供了这样一段文字来描述目标：\n",
    "> 泰坦尼克号的沉没是历史上最臭名昭着的沉船之一。1912年4月15日，在首航期间，泰坦尼克号撞上一座冰山后沉没，2224名乘客和机组人员中有1502人遇难。这一耸人听闻的悲剧震撼了国际社会，并导致了更好的船舶安全条例。\n",
    "沉船导致生命损失的原因之一是乘客和船员没有足够的救生艇。虽然幸存下来的运气有一些因素，但有些人比其他人更有可能生存，比如妇女，儿童和上层阶级。\n",
    "在这个挑战中，我们要求你完成对什么样的人可能生存的分析。特别是，我们要求你运用机器学习的工具来预测哪些乘客幸存下来。\n",
    "\n",
    "从描述中，我们可以这样理解项目目标：**预测“生”与“死”的二分类问题**。常用的二分类算法及理论知识介绍，在《第四章 常见机器学习算法简介》中将具体学习。在本次实验中，我们先使用决策树算法完成整个实验练习。\n"
   ]
  },
  {
   "cell_type": "markdown",
   "metadata": {},
   "source": [
    "## 理解并准备数据\n",
    "\n",
    "基于《机器学习实战流程——数据准备》章节的学习，我们知道：该阶段的目标主要是完成可用于机器学习算法训练的数据集准备。因此，该环节的练习任务为：需要通过对数据的预览和理解，准备可用于模型训练的数据集。该竞赛提供了基础的训练集和测试集数据：\n",
    "\n",
    "* train.csv 训练文件，包含了客户真实幸存情况及相关特征，用于模型训练；\n",
    "* test.csv 测试文件，仅包含客户特征，不包含客户真实的幸存情况，用于模型产生预测结果，可提交Kaggle平台评估预测效果；\n",
    "\n"
   ]
  },
  {
   "cell_type": "markdown",
   "metadata": {},
   "source": [
    "### 任务1：\n",
    "使用pandas模块中read_csv函数载入train.csv文件数据，并预览数据。\n",
    "\n",
    "**说明：** train.csv文件位于”./titanic/data/“目录下"
   ]
  },
  {
   "cell_type": "code",
   "execution_count": 1,
   "metadata": {
    "collapsed": true
   },
   "outputs": [],
   "source": [
    "## 练习代码"
   ]
  },
  {
   "cell_type": "markdown",
   "metadata": {},
   "source": [
    "### 任务2 \n",
    "\n",
    "使用DataFrame属性函数info()来统计每个变量中非空值的个数，以及当前的变量类型，并选择已满足建模条件的特征变量。\n",
    "\n",
    "**说明：**\n",
    "\n",
    "Pandas将数据载入为DataFrame的格式存储，会自动对变量的数据类型进行定义，但定义类型的合理与否，仍需我们根据变量实际的含义进行核对修正。所以在该任务中要求同学理解每个变量的含义，并对info()返回的变量类型进行检查。\n",
    "\n",
    "\n",
    "**变量含义说明**\n",
    "\n",
    "\n",
    "\n",
    "| 特征 | 描述 | 值|\n",
    "| - | - | - |\n",
    "| survival | 生存           | 0 = No, 1 = Yes |\n",
    "| pclass   | 票类别-社会地位  | 1 = 1st, 2 = 2nd, 3 = 3rd |  \n",
    "| name     | 姓名           |\n",
    "| sex      | 性别           | |\n",
    "| Age      | 年龄           | |    \n",
    "| sibsp    | 兄弟姐妹/配偶   | | \n",
    "| parch    | 父母/孩子的数量 | |\n",
    "| ticket   | 票号           | |   \n",
    "| fare     | 乘客票价       | |  \n",
    "| cabin    | 客舱号码       | |    \n",
    "| embarked | 登船港口       | C=Cherbourg, Q=Queenstown, S=Southampton |  "
   ]
  },
  {
   "cell_type": "code",
   "execution_count": 3,
   "metadata": {
    "collapsed": true
   },
   "outputs": [],
   "source": [
    "## 练习代码"
   ]
  },
  {
   "cell_type": "markdown",
   "metadata": {},
   "source": [
    "#### 任务2小结：\n",
    "1. 通过变量含义可知，数据中分类型变量（Categorical）包括：Survived, Pclass, Sex, Embarked; 数值型变量（Numerical）包括：Age, SibSp, Parch, Fare。剩余的Name、Ticket及Cabin变量属于混合型变量，需要进一步加工处理。info()函数返回的变量类型与业务理解相符。\n",
    "2. 变量Age, Cabin, Embarked存在缺失值。\n",
    "3. object变量类型表示该变量中存在字符串，这类变量需要处理后才能进行建模。\n",
    "4. Survived为目标变量（因变量Y），PassengerId为索引无需在建模中使用，可直接用于后续建模的特征变量（自变量X）有：SibSp, Parch, Fare。"
   ]
  },
  {
   "cell_type": "markdown",
   "metadata": {},
   "source": [
    "### 任务3\n",
    "\n",
    "* 使用pandas常用的数据选择方法构建可用于Scikit-learn进行模型训练的数据集。\n",
    "* 目标变量Y直接使用Survived字段，可直接使用的特征变量字段为：SibSp, Parch, Fare。\n",
    "\n",
    "**说明：**\n",
    "\n",
    "在《机器学习框架Scikit-learn简介》中，我们介绍了机器学习框架Scikit-learn中的Estimator，并介绍Estimator.fit方法接收的数据，应分别包含特征矩阵(X)及一维数组y（目标变量）。因此，在本次任务中需要分别准备特征矩阵和目标变量。"
   ]
  },
  {
   "cell_type": "code",
   "execution_count": 5,
   "metadata": {
    "collapsed": true
   },
   "outputs": [],
   "source": [
    "## 练习代码"
   ]
  },
  {
   "cell_type": "markdown",
   "metadata": {},
   "source": [
    "## 模型训练\n",
    "\n",
    "### 任务4\n",
    "\n",
    "* 基于上一任务结果划分出验证集（Validation Set）用于模型效果评估，剩余数据用于模型训练。\n",
    "* Sklearn提供了model_selection.train_test_split()函数可以进行数据集划分，该函数接收两个参数X和Y，包括了将要用到的训练集和验证集的所有数据，在本环节对应为上文得到的trainX和trainY。函数返回四个数据集：训练集X， 训练集Y，验证集X和验证集Y，我们分别用train_X, train_y, val_X, val_y四个变量来接收。test_size=0.20的参数设置，代表了期望分割的验证集样本量占分割前数据集的20%，random_state=1参数设置为了确保随机抽样的结果可以复现。\n",
    "\n",
    "** 说明： **\n",
    "Kaggle提供的test.csv的数据文件中并没有目标变量Survived字段，我们若想评估模型效果就需要将预测结果提交到Kaggle上进行评价。这对于后续迭代优化模型效果造成很大的不便。所以我们可以从训练集中抽取一部分样本，不参与模型训练，仅用于模型预测评估，我们将其作为验证集（Validation Set）。（关于训练集、验证集和测试集的作用及划分方法，在《2-4 机器学习实战流程——模型训练》章节有具体介绍。）"
   ]
  },
  {
   "cell_type": "code",
   "execution_count": 7,
   "metadata": {
    "collapsed": true
   },
   "outputs": [],
   "source": [
    "### 训练集与验证集划分\n",
    "\n",
    "from sklearn.model_selection import train_test_split\n",
    "\n",
    "## 练习代码"
   ]
  },
  {
   "cell_type": "markdown",
   "metadata": {},
   "source": [
    "### 任务5\n",
    "\n",
    "* 训练集样本平衡性检查。\n",
    "* 使用pandas模块中value_counts()函数对train_y进行正负样本数量统计。\n",
    "\n",
    "** 说明：** 通过上述步骤得到了真正用于建模的训练集train_X, train_y，和用于评估模型效果的验证数据集val_X，val_y。在进行模型训练之前，我们首先要检查下训练数据集中的正负样本均匀性，如果正负样本严重不均匀，则需要进行处理。关于样本均匀性的检查及处理方法，在《机器学习实战流程——模型训练》章节有具体介绍。"
   ]
  },
  {
   "cell_type": "code",
   "execution_count": 9,
   "metadata": {
    "collapsed": true
   },
   "outputs": [],
   "source": [
    "## 练习代码\n",
    "### 统计train_y的正负样本数量"
   ]
  },
  {
   "cell_type": "markdown",
   "metadata": {},
   "source": [
    "#### 任务5小结\n",
    "\n",
    "基于train_y中两类样本的数量，我们认为属于可接受的比例范围，所以不对该训练集做进一步抽样处理，直接进行第一次模型训练。"
   ]
  },
  {
   "cell_type": "markdown",
   "metadata": {},
   "source": [
    "### 任务6\n",
    "\n",
    "* 使用决策树算法训练模型\n",
    "* 决策树算法可以使用sklearn中tree.DecisionTreeClassifier的方法来实现。\n",
    "\n",
    "** 说明：** 在《机器学习框架Scikit-learn简介》中我们介绍了sklearn中使用Estimator来进行模型训练和预测。tree.DecisionTreeClassifier就是sklearn提供决策树Estimator，所以可以使用fit()函数来进行模型训练。"
   ]
  },
  {
   "cell_type": "code",
   "execution_count": 11,
   "metadata": {
    "collapsed": true
   },
   "outputs": [],
   "source": [
    "## 练习代码\n",
    "from sklearn import tree"
   ]
  },
  {
   "cell_type": "markdown",
   "metadata": {},
   "source": [
    "**恭喜你得到了自己创建的第一个模型！** "
   ]
  },
  {
   "cell_type": "markdown",
   "metadata": {},
   "source": [
    "## 模型评估\n",
    "\n",
    "评估模型的基本思路为：\n",
    "1. 使用模型对用来评估的数据集（通常称为：验证集或测试集）进行预测，得到预测值；\n",
    "2. 将预测值与真实值进行比较，可使用不同的评估指标进行计算。\n",
    "对于模型评估更多的知识学习，可以参考《机器学习实战流程——模型评估》章节。\n",
    "\n",
    "### 任务7\n",
    "\n",
    "* 使用上述分类器clf的predict()函数预测val_X数据集，得到预测值val_pred；\n",
    "* 使用metrics.accuracy_score()函数计算准确率，该函数接收两个参数，分别为真实值数据和预测值数据。"
   ]
  },
  {
   "cell_type": "code",
   "execution_count": 13,
   "metadata": {
    "collapsed": true
   },
   "outputs": [],
   "source": [
    "## 练习代码"
   ]
  },
  {
   "cell_type": "markdown",
   "metadata": {},
   "source": [
    "## 练习总结\n",
    "\n",
    "通过本次实验练习，你已经掌握了基础的机器学习建模流程的搭建：“问题定义-准备训练数据与测试数据-训练模型-评估模型”。\n",
    "\n",
    "得到的第一个机器学习模型为决策树模型，其对验证集预测的准确率在67.6%左右。\n",
    "\n",
    "如何进一步优化模型的预测能力？接下来的课程及练习中，我们将围绕机器学习项目流程中不同的环节进行模型的迭代优化，主要针对数据准备和训练模型两个环节开展工作。"
   ]
  }
 ],
 "metadata": {
  "anaconda-cloud": {},
  "kernelspec": {
   "display_name": "Python 3",
   "language": "python",
   "name": "python3"
  },
  "language_info": {
   "codemirror_mode": {
    "name": "ipython",
    "version": 3
   },
   "file_extension": ".py",
   "mimetype": "text/x-python",
   "name": "python",
   "nbconvert_exporter": "python",
   "pygments_lexer": "ipython3",
   "version": "3.7.0"
  }
 },
 "nbformat": 4,
 "nbformat_minor": 1
}
